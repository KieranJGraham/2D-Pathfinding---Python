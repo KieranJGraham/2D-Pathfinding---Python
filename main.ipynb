{
 "cells": [
  {
   "cell_type": "markdown",
   "id": "2d1cdbc3",
   "metadata": {},
   "source": [
    "# STEP 1 - Grid Generation\n",
    "Take a pre-set list of instructions and generate a 10x10 grid"
   ]
  },
  {
   "cell_type": "code",
   "execution_count": 13,
   "id": "e58b22b5",
   "metadata": {},
   "outputs": [],
   "source": [
    "def GridGen(obs):\n",
    "    '''Takes in a list of obstructions and outputs a grid'''\n",
    "    gen = [[\"□\" for _ in range(10)] for _ in range(10)]\n",
    "    for a in obs:\n",
    "        list(a)\n",
    "        gen[a[0]][a[1]]=\"■\"\n",
    "    return gen\n"
   ]
  },
  {
   "cell_type": "markdown",
   "id": "2421175f",
   "metadata": {},
   "source": [
    "# STEP 2 - Random Grid Generation\n",
    "Generate a grid with 20 randomly placed obstacles on it, that are non-overlapping and do not overwrite (0,0) or (9,9)"
   ]
  },
  {
   "cell_type": "code",
   "execution_count": 14,
   "id": "a9c93b6f",
   "metadata": {},
   "outputs": [],
   "source": [
    "def RandomGridGen():\n",
    "    '''Generates a grid with 20 random obstacles'''\n",
    "    import random\n",
    "    randgrid = [[\"□\" for _ in range(10)] for _ in range(10)]\n",
    "    count = 0\n",
    "    while count < 20:\n",
    "        r1 = random.randint(0,9)\n",
    "        r2 = random.randint(0,9)\n",
    "        if (randgrid[r1][r2] != \"■\") and ((r1,r2) != (0,0)) and ((r1,r2) != (9,9)):\n",
    "            randgrid[r1][r2] = \"■\"\n",
    "            count += 1\n",
    "    return randgrid"
   ]
  },
  {
   "cell_type": "markdown",
   "id": "b8051721",
   "metadata": {},
   "source": [
    "# STEP 3 - Print Grid Function\n",
    "Takes in a grid and prints it line by line"
   ]
  },
  {
   "cell_type": "code",
   "execution_count": 15,
   "id": "6d6d57b0",
   "metadata": {},
   "outputs": [
    {
     "name": "stdout",
     "output_type": "stream",
     "text": [
      "□\t□\t□\t□\t□\t□\t□\t□\t□\t□\n",
      "\n",
      "\n",
      "□\t■\t□\t■\t■\t□\t■\t□\t■\t□\n",
      "\n",
      "\n",
      "■\t□\t□\t□\t□\t□\t□\t□\t□\t□\n",
      "\n",
      "\n",
      "□\t□\t■\t□\t■\t□\t□\t□\t□\t□\n",
      "\n",
      "\n",
      "■\t□\t□\t□\t■\t■\t□\t□\t□\t■\n",
      "\n",
      "\n",
      "□\t□\t□\t□\t□\t□\t■\t□\t□\t□\n",
      "\n",
      "\n",
      "□\t□\t□\t□\t□\t□\t□\t□\t□\t□\n",
      "\n",
      "\n",
      "□\t□\t■\t□\t□\t■\t□\t□\t□\t□\n",
      "\n",
      "\n",
      "□\t□\t□\t□\t□\t□\t□\t■\t□\t■\n",
      "\n",
      "\n",
      "□\t■\t■\t□\t□\t□\t■\t□\t□\t□\n",
      "\n",
      "\n"
     ]
    }
   ],
   "source": [
    "def PrintGrid(grid):\n",
    "    for i in grid:\n",
    "        print(*i, sep=\"\\t\")\n",
    "        print()\n",
    "        print()\n",
    "        \n",
    "PrintGrid(RandomGridGen())"
   ]
  },
  {
   "cell_type": "markdown",
   "id": "00e0cf2a",
   "metadata": {},
   "source": [
    "# STEP 4 - Possible Moves\n",
    "Takes in a grid and a previous move and based on obstacle locations in that grid, outputs possible moves"
   ]
  },
  {
   "cell_type": "code",
   "execution_count": 16,
   "id": "8df1a8ad",
   "metadata": {},
   "outputs": [],
   "source": [
    "def PossibleMoves(grid,prev):\n",
    "    '''Takes in grid state and previous moves'''\n",
    "    #if in centre, 8 moves possible\n",
    "    #exceptions - side (value over 9 or under 0), OBS\n",
    "    a,b = prev[0],prev[1]\n",
    "    uu = ((a+1),(b+1))\n",
    "    us = ((a+1),(b))\n",
    "    ud = ((a+1),(b-1))\n",
    "    su = ((a),(b+1))\n",
    "    sd = ((a),(b-1))\n",
    "    du = ((a-1),(b+1))\n",
    "    ds = ((a-1),(b))\n",
    "    dd = ((a-1),(b-1))\n",
    "    moves = (uu,ud,du,dd,us,su,sd,ds)\n",
    "    newmoves = list(moves)\n",
    "    for m in moves:\n",
    "        if m[0] > 9 or m[0] < 0 or m[1] > 9 or m[1] < 0 or grid[m[0]][m[1]]==\"■\":\n",
    "            newmoves.remove(m)\n",
    "    return newmoves\n"
   ]
  },
  {
   "cell_type": "markdown",
   "id": "00dfdfad",
   "metadata": {},
   "source": [
    "# STEP 5 - Obstacle Locations\n",
    "With a similar functionality to Possible moves, this function takes a grid and a location and reports surrounding obstacle locations"
   ]
  },
  {
   "cell_type": "code",
   "execution_count": 17,
   "id": "aca092f7",
   "metadata": {},
   "outputs": [],
   "source": [
    "def ObstacleLocations(grid,location):\n",
    "    '''Checks surrounding places for obstacles'''\n",
    "    a, b = location[0], location[1]    \n",
    "    uu = ((a+1),(b+1))\n",
    "    us = ((a+1),(b))\n",
    "    ud = ((a+1),(b-1))\n",
    "    su = ((a),(b+1))\n",
    "    sd = ((a),(b-1))\n",
    "    du = ((a-1),(b+1))\n",
    "    ds = ((a-1),(b))\n",
    "    dd = ((a-1),(b-1))\n",
    "    moves = (uu,ud,du,dd,us,su,sd,ds)\n",
    "    obstacles = []\n",
    "    for m in moves:\n",
    "        if (m[0] < 10) and (m[1] < 10) and (m[0] > -1) and (m[1] > -1):\n",
    "            if grid[m[0]][m[1]] == \"■\":\n",
    "                obstacles.append(m)\n",
    "    \n",
    "    return obstacles"
   ]
  },
  {
   "cell_type": "markdown",
   "id": "e88adc72",
   "metadata": {},
   "source": [
    "# STEP 6 - Score Function\n",
    "Takes in a grid and a move list and finds the best move based on distance from the start and endpoints (implementation of A* pathfinding algorithm)"
   ]
  },
  {
   "cell_type": "code",
   "execution_count": 18,
   "id": "1a5bee45",
   "metadata": {},
   "outputs": [
    {
     "name": "stdout",
     "output_type": "stream",
     "text": [
      "(9, 8)\n"
     ]
    }
   ],
   "source": [
    "def Score(grid,pmove):\n",
    "    '''takes in a grid and move list and finds the best move based on distance from start (0,0) and end (9,9)'''\n",
    "    from math import sqrt                                                                   #import square root\n",
    "    movelist = PossibleMoves(grid,pmove)                                                    #get list of possible moves\n",
    "    #FINISH THIS IF MOVELIST == NONE\n",
    "    surrounding_obstacles = ObstacleLocations(grid,pmove)                                   #get list of surrounding obstacles\n",
    "    best = 1000.0                                                                                #best score starts at 0\n",
    "    bm = 0                                                                                  #best move is empty\n",
    "\n",
    "    if movelist == []:                                                                      #when path is blocked\n",
    "        print(\"No moves available\")\n",
    "        print(f\"Remove obstacles from one of these positions:{surrounding_obstacles}\")\n",
    "        return None\n",
    "\n",
    "    for i in movelist:                                                                      #when path not blocked - score each move and find best\n",
    "        a,b = i[0],i[1]\n",
    "        low = sqrt(a**2+b**2)\n",
    "        sum_ab = sqrt((9)**2+(9)**2) - low\n",
    "        if sum_ab < best:\n",
    "            best = sum_ab\n",
    "            bm = (a,b)\n",
    "    return bm\n",
    "\n",
    "grid = GridGen([(0,2),(0,3), (0,6), (0,7), (1,5), (1,8), (1,9), (2,1), (2,5), (3,4), (3,7), (4,4), (4,6), (5,6), (6,2), (7,1), (8,1), (8,5), (8,8), (9,6)])\n",
    "print(Score(grid, (9,7)))"
   ]
  },
  {
   "cell_type": "markdown",
   "id": "428f98bd",
   "metadata": {},
   "source": [
    "# STEP 7 - Score Obstacle List\n",
    "Takes in grid, previous move and obstacle list and outputs the ideal obstacle to remove to clear a path to the endpoint. Uses scoring system similar to the previous score function "
   ]
  },
  {
   "cell_type": "code",
   "execution_count": 19,
   "id": "eb6e7de5",
   "metadata": {},
   "outputs": [],
   "source": [
    "def ScoreObstacleList(grid,pmove,obstacle_list):\n",
    "    '''takes in a grid and move list and finds the best move based on distance from start (0,0) and end (9,9)'''\n",
    "    from math import sqrt                                                                   #import square root\n",
    "    surrounding_obstacles = ObstacleLocations(grid,pmove)                                   #get list of surrounding obstacles\n",
    "    best = 1000                                                                                #best score starts at 0\n",
    "    bm = 0                                                                                  #best move is empty\n",
    "\n",
    "    for i in obstacle_list:                                                                      #when path not blocked - score each move and find best\n",
    "        a,b = i[0],i[1]\n",
    "        low = sqrt(a**2+b**2)\n",
    "        sum_ab = sqrt((9)**2+(9)**2) - low\n",
    "        if sum_ab < best:\n",
    "            best = sum_ab\n",
    "            bm = (a,b)\n",
    "    return bm"
   ]
  },
  {
   "cell_type": "markdown",
   "id": "54c2353a",
   "metadata": {},
   "source": [
    "# STEP 8 - Pathfinding Function\n",
    "Takes in a 10x10 grid and finds the best path from (0,0) to (9,9)"
   ]
  },
  {
   "cell_type": "code",
   "execution_count": 20,
   "id": "e1bdd2f1",
   "metadata": {},
   "outputs": [],
   "source": [
    "def Pathfinder1(obstacles):\n",
    "    '''Takes in a grid and finds the best path'''\n",
    "    grid = GridGen(obstacles)\n",
    "    bmove = Score(grid,(0,0))\n",
    "    best_path = [(0,0)]\n",
    "    best_path.append(bmove)\n",
    "    while bmove != (9,9):\n",
    "        if len(best_path)>2:\n",
    "            if best_path[-1] == best_path[-3]:\n",
    "                break\n",
    "            bmove = Score(grid, bmove)\n",
    "            best_path.append(bmove)\n",
    "            continue\n",
    "\n",
    "        bmove = Score(grid,bmove)\n",
    "        best_path.append(bmove)\n",
    "    if (9,9) not in best_path:\n",
    "        if best_path[-1] == best_path[-3]:\n",
    "            a = best_path[-2]\n",
    "            best_path = best_path[:-1]\n",
    "            surr_obs = ObstacleLocations(grid,a)\n",
    "            remove_this_obstacle = ScoreObstacleList(grid,a,surr_obs)\n",
    "            return f'Pathfinding failed. Path: {best_path}. Remove this obstacle: {remove_this_obstacle} to continue'\n",
    "        return 'path not found - unknown error'\n",
    "\n",
    "    steps_taken = len(best_path)\n",
    "    return best_path, f'Steps taken: {steps_taken}'"
   ]
  },
  {
   "cell_type": "markdown",
   "id": "9c473d3e",
   "metadata": {},
   "source": [
    "# STEP 9 - Random Grid Pathfinder\n",
    "Uses the random grid generation function and finds the best path for that random grid. If path is blocked, suggests best obstacle to remove to clear the path"
   ]
  },
  {
   "cell_type": "code",
   "execution_count": 21,
   "id": "b6147ea5",
   "metadata": {},
   "outputs": [],
   "source": [
    "def Pathfinder2():\n",
    "    '''Takes in a grid and finds the best path'''\n",
    "    grid = RandomGridGen()\n",
    "    bmove = Score(grid,(0,0))\n",
    "    best_path = [(0,0)]\n",
    "    best_path.append(bmove)\n",
    "    while bmove != (9,9):\n",
    "        if len(best_path)>2:\n",
    "            if best_path[-1] == best_path[-3]:\n",
    "                break\n",
    "            bmove = Score(grid, bmove)\n",
    "            best_path.append(bmove)\n",
    "            continue\n",
    "\n",
    "        bmove = Score(grid,bmove)\n",
    "        best_path.append(bmove)\n",
    "    if (9,9) not in best_path:\n",
    "        if best_path[-1] == best_path[-3]:\n",
    "            a = best_path[-2]\n",
    "            best_path = best_path[:-1]\n",
    "            surr_obs = ObstacleLocations(grid,a)\n",
    "            remove_this_obstacle = ScoreObstacleList(grid,a,surr_obs)\n",
    "            return f'Pathfinding failed. Path: {best_path}. Remove this obstacle: {remove_this_obstacle} to continue'\n",
    "        return 'path not found - unknown error'\n",
    "\n",
    "    steps_taken = len(best_path)\n",
    "    return best_path, f'Steps taken: {steps_taken}'"
   ]
  },
  {
   "cell_type": "markdown",
   "id": "cd913ce1",
   "metadata": {},
   "source": [
    "# STEP 10 - Complete Pathfinding Function\n",
    "Uses the random grid generation function to create a grid and if obstacles are present, allows the user to remove them."
   ]
  },
  {
   "cell_type": "code",
   "execution_count": 31,
   "id": "b2017a36",
   "metadata": {},
   "outputs": [
    {
     "name": "stdout",
     "output_type": "stream",
     "text": [
      "🔷\t□\t□\t□\t□\t□\t□\t□\t□\t□\n",
      "\n",
      "\n",
      "□\t🔷\t□\t■\t□\t■\t□\t■\t□\t■\n",
      "\n",
      "\n",
      "□\t□\t🔷\t□\t□\t□\t□\t□\t□\t□\n",
      "\n",
      "\n",
      "■\t□\t□\t🔷\t■\t□\t■\t■\t□\t□\n",
      "\n",
      "\n",
      "□\t□\t□\t□\t🔷\t■\t□\t■\t□\t■\n",
      "\n",
      "\n",
      "□\t□\t□\t□\t□\t🔷\t■\t□\t□\t□\n",
      "\n",
      "\n",
      "□\t□\t□\t□\t□\t□\t🔷\t□\t□\t□\n",
      "\n",
      "\n",
      "□\t□\t■\t■\t□\t□\t□\t🔷\t□\t□\n",
      "\n",
      "\n",
      "□\t■\t□\t□\t□\t□\t□\t□\t🔷\t□\n",
      "\n",
      "\n",
      "□\t■\t□\t■\t□\t■\t■\t■\t□\t🔷\n",
      "\n",
      "\n",
      "None\n"
     ]
    },
    {
     "data": {
      "text/plain": [
       "([(0, 0),\n",
       "  (1, 1),\n",
       "  (2, 2),\n",
       "  (3, 3),\n",
       "  (4, 4),\n",
       "  (5, 5),\n",
       "  (6, 6),\n",
       "  (7, 7),\n",
       "  (8, 8),\n",
       "  (9, 9)],\n",
       " 'Steps taken: 10')"
      ]
     },
     "execution_count": 31,
     "metadata": {},
     "output_type": "execute_result"
    }
   ],
   "source": [
    "def Pathfinder():\n",
    "    '''Takes in a grid and finds the best path'''\n",
    "    g = RandomGridGen()                                                                 #generate grid\n",
    "    \n",
    "    bmove = Score(g,(0,0))                                                              #\n",
    "    best_path = [(0,0)]\n",
    "    best_path.append(bmove)\n",
    "    while bmove != (9,9):\n",
    "        if len(best_path)>2:\n",
    "            if best_path[-1] == best_path[-3]:\n",
    "                break\n",
    "            bmove = Score(g, bmove)\n",
    "            best_path.append(bmove)\n",
    "            continue\n",
    "        \n",
    "        if bmove == None:\n",
    "            \n",
    "            return 'pathfinding stopped at (0,0), obstacles surrounding start position'\n",
    "        \n",
    "        bmove = Score(g,bmove)\n",
    "        best_path.append(bmove)\n",
    "    if (9,9) not in best_path:\n",
    "        if best_path[-1] == best_path[-3]:\n",
    "            a = best_path[-2]\n",
    "            best_path = best_path[:-1]\n",
    "            surr_obs = ObstacleLocations(g,a)\n",
    "            remove_this_obstacle = ScoreObstacleList(g,a,surr_obs)\n",
    "            if type(remove_this_obstacle) != tuple:\n",
    "                print(\"Error - processing failed\")\n",
    "                if remove_this_obstacle == 0:\n",
    "                    print(\"obstacle returning 0 instead of tuple\")\n",
    "                return 'failure'\n",
    "            print(f\"Path blocked. Obstacle at {remove_this_obstacle} is recommended for removal (marked with '▩' below)\")\n",
    "            print(f\"Path stopped at {best_path[-1]}. This location is marked with '🔶' below\")\n",
    "            print(f\"best path is: {best_path}\")\n",
    "            print(f\"surrounding obstacles are: {surr_obs}\")\n",
    "            g[best_path[-1][0]][best_path[-1][1]] = \"🔶\"\n",
    "            g[remove_this_obstacle[0]][remove_this_obstacle[1]] = \"▩\"\n",
    "            for m in best_path[:-1]:\n",
    "                g[m[0]][m[1]] = \"🔷\"\n",
    "            \n",
    "        return 'failure', print(PrintGrid(g))\n",
    "\n",
    "    steps_taken = len(best_path)\n",
    "    for m in best_path:\n",
    "        g[m[0]][m[1]] = \"🔷\"\n",
    "    print(PrintGrid(g))\n",
    "    return best_path, f'Steps taken: {steps_taken}'\n",
    "\n",
    "Pathfinder()\n"
   ]
  }
 ],
 "metadata": {
  "kernelspec": {
   "display_name": "Python 3",
   "language": "python",
   "name": "python3"
  },
  "language_info": {
   "codemirror_mode": {
    "name": "ipython",
    "version": 3
   },
   "file_extension": ".py",
   "mimetype": "text/x-python",
   "name": "python",
   "nbconvert_exporter": "python",
   "pygments_lexer": "ipython3",
   "version": "3.8.8"
  }
 },
 "nbformat": 4,
 "nbformat_minor": 5
}
